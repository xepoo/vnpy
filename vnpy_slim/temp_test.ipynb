{
 "nbformat": 4,
 "nbformat_minor": 2,
 "metadata": {
  "language_info": {
   "name": "python",
   "codemirror_mode": {
    "name": "ipython",
    "version": 3
   },
   "version": "3.7.3-final"
  },
  "orig_nbformat": 2,
  "file_extension": ".py",
  "mimetype": "text/x-python",
  "name": "python",
  "npconvert_exporter": "python",
  "pygments_lexer": "ipython3",
  "version": 3,
  "kernelspec": {
   "name": "python3",
   "display_name": "Python 3"
  }
 },
 "cells": [
  {
   "cell_type": "code",
   "execution_count": 15,
   "metadata": {},
   "outputs": [],
   "source": [
    "import numpy as np\n",
    "from sklearn.preprocessing import MinMaxScaler\n",
    "\n",
    "a = np.array([[1,11],[2,21],[3,31],[4,41]])\n",
    "a\n",
    "\n",
    "b = np.array([[11],[21],[31],[41]])"
   ]
  },
  {
   "cell_type": "code",
   "execution_count": 17,
   "metadata": {},
   "outputs": [
    {
     "data": {
      "text/plain": "array([[0.        , 0.        ],\n       [0.33333333, 0.33333333],\n       [0.66666667, 0.66666667],\n       [1.        , 1.        ]])"
     },
     "execution_count": 17,
     "metadata": {},
     "output_type": "execute_result"
    }
   ],
   "source": [
    "scaler1 = MinMaxScaler(feature_range=(0, 1)) \n",
    "a_mms = scaler1.fit_transform(a)\n",
    "\n",
    "scaler2 = MinMaxScaler(feature_range=(0, 1)) \n",
    "b_mms = scaler2.fit_transform(b)\n",
    "#b_mms\n",
    "a_mms"
   ]
  },
  {
   "cell_type": "code",
   "execution_count": 5,
   "metadata": {},
   "outputs": [
    {
     "data": {
      "text/plain": "array([[ 1., 11.],\n       [ 2., 21.],\n       [ 3., 31.],\n       [ 4., 41.]])"
     },
     "execution_count": 5,
     "metadata": {},
     "output_type": "execute_result"
    }
   ],
   "source": [
    "c = [[0.        , 0.        ],\n",
    "       [0.33333333, 0.33333333],\n",
    "       [0.66666667, 0.66666667],\n",
    "       [1.        , 1.        ]]\n",
    "\n",
    "a_vers = scaler.inverse_transform(a_mms)\n",
    "a_vers"
   ]
  },
  {
   "cell_type": "code",
   "execution_count": null,
   "metadata": {},
   "outputs": [],
   "source": []
  }
 ]
}